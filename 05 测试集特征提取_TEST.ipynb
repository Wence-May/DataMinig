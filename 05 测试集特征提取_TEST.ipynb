{
 "cells": [
  {
   "cell_type": "code",
   "execution_count": 1,
   "metadata": {
    "ExecuteTime": {
     "end_time": "2019-12-06T23:34:35.067613Z",
     "start_time": "2019-12-06T23:34:33.007123Z"
    }
   },
   "outputs": [],
   "source": [
    "import numpy as np\n",
    "import pandas as pd"
   ]
  },
  {
   "cell_type": "code",
   "execution_count": 2,
   "metadata": {
    "ExecuteTime": {
     "end_time": "2019-12-06T23:34:35.076588Z",
     "start_time": "2019-12-06T23:34:35.071610Z"
    }
   },
   "outputs": [],
   "source": [
    "# TRSC = \"流水数据/table_loss_transaction_trainingdata.txt\"\n",
    "TRSC = \"流水数据/table_loss_transaction_testdata.txt\"\n",
    "# TP = \"抛出点数据/table_throwpoint_training.txt\"\n",
    "TP = \"抛出点数据/table_throwpoint_test.txt\" \n",
    "\n",
    "M = \"商户数据/table_datamining_merchant.txt\"\n",
    "# LBL = \"特征值/lable.csv\"\n",
    "# TRSC = \"特征值/trsc_cut.csv\"\n",
    "# EIGEN = \"特征值/eigen_train.csv\"\n",
    "EIGEN = \"特征值/eigen_test.csv\""
   ]
  },
  {
   "cell_type": "code",
   "execution_count": 3,
   "metadata": {
    "ExecuteTime": {
     "end_time": "2019-12-06T23:36:13.750729Z",
     "start_time": "2019-12-06T23:34:35.079582Z"
    }
   },
   "outputs": [],
   "source": [
    "# try:\n",
    "#     trsc\n",
    "# except NameError:\n",
    "#     trsc_exists = False\n",
    "#     trsc=pd.read_csv(TRSC,engine='python')\n",
    "# else:\n",
    "#     trsc_exists = True\n",
    "# trsc\n",
    "trsc=pd.read_csv(TRSC,engine='python')"
   ]
  },
  {
   "cell_type": "code",
   "execution_count": 4,
   "metadata": {
    "ExecuteTime": {
     "end_time": "2019-12-06T23:36:15.499053Z",
     "start_time": "2019-12-06T23:36:13.753692Z"
    }
   },
   "outputs": [],
   "source": [
    "trsc.drop(columns=['id','terminal_id','payer_uid','received_amount','paid_amount','bankcard_credit','wallet_alipay_finance',\n",
    "                   'alipay_point','hongbao_wosai','hongbao_wosai_mch','discount_wosai','discount_wosai_mch','hongbao_channel_mch',\n",
    "                   'hongbao_channel_mch_top_up','card_pre','card_balance','merchant_sn','is_liquidation_next_day','type',\n",
    "                   'status','pay_way','sub_pay_way','ctime'],inplace=True)"
   ]
  },
  {
   "cell_type": "markdown",
   "metadata": {
    "ExecuteTime": {
     "end_time": "2019-12-03T17:30:33.828007Z",
     "start_time": "2019-12-03T17:29:22.790014Z"
    }
   },
   "source": [
    "## 特征1：#original_amount"
   ]
  },
  {
   "cell_type": "markdown",
   "metadata": {
    "ExecuteTime": {
     "end_time": "2019-12-03T17:30:33.828007Z",
     "start_time": "2019-12-03T17:29:22.790014Z"
    }
   },
   "source": [
    "## 特征2：（支付通道中）是否优惠\n",
    "\n",
    "price_reduced = bool(#original_amount - #effective_amount)\n",
    "\n",
    "price_reduced = 1 : 有优惠\n",
    "\n",
    "price_reduced = 0 : 无优惠"
   ]
  },
  {
   "cell_type": "code",
   "execution_count": 5,
   "metadata": {
    "ExecuteTime": {
     "end_time": "2019-12-06T23:36:15.585788Z",
     "start_time": "2019-12-06T23:36:15.502014Z"
    }
   },
   "outputs": [],
   "source": [
    "trsc['price_reduced']= trsc['original_amount']-trsc['effective_amount']"
   ]
  },
  {
   "cell_type": "code",
   "execution_count": 6,
   "metadata": {
    "ExecuteTime": {
     "end_time": "2019-12-06T23:36:16.076481Z",
     "start_time": "2019-12-06T23:36:15.587784Z"
    }
   },
   "outputs": [],
   "source": [
    "#确认没有负值\n",
    "for i in trsc.price_reduced:\n",
    "    if i<0:\n",
    "        print(\"@\")"
   ]
  },
  {
   "cell_type": "code",
   "execution_count": 7,
   "metadata": {
    "ExecuteTime": {
     "end_time": "2019-12-06T23:36:16.104403Z",
     "start_time": "2019-12-06T23:36:16.080470Z"
    }
   },
   "outputs": [],
   "source": [
    "trsc['if_price_reduced'] = trsc['price_reduced'].astype(bool).astype(int)"
   ]
  },
  {
   "cell_type": "code",
   "execution_count": 8,
   "metadata": {
    "ExecuteTime": {
     "end_time": "2019-12-06T23:36:16.394626Z",
     "start_time": "2019-12-06T23:36:16.109392Z"
    }
   },
   "outputs": [
    {
     "data": {
      "text/plain": [
       "865"
      ]
     },
     "execution_count": 8,
     "metadata": {},
     "output_type": "execute_result"
    }
   ],
   "source": [
    " sum(trsc.if_price_reduced)"
   ]
  },
  {
   "cell_type": "markdown",
   "metadata": {},
   "source": [
    "## 特征3： 提供的支付方式个数\n",
    "\n",
    "（4*1vector) \n",
    "\n",
    "#payw_offer = sum[bool(bankcard_debit), bool(wallet_weixin), bool(wallet_alipay), bool(alipay_huabei)]\n"
   ]
  },
  {
   "cell_type": "code",
   "execution_count": 9,
   "metadata": {
    "ExecuteTime": {
     "end_time": "2019-12-06T23:36:18.291554Z",
     "start_time": "2019-12-06T23:36:16.397622Z"
    }
   },
   "outputs": [],
   "source": [
    "payw_sum = trsc.groupby(['store_id']).mean().reset_index()\n",
    "payw_sum['bankcard_debit'] = payw_sum['bankcard_debit'].astype(bool).astype(int)\n",
    "payw_sum['wallet_alipay'] = payw_sum['wallet_alipay'].astype(bool).astype(int)\n",
    "payw_sum['wallet_weixin'] = payw_sum['wallet_weixin'].astype(bool).astype(int)\n",
    "payw_sum['alipay_huabei'] = payw_sum['alipay_huabei'].astype(bool).astype(int)\n",
    "payw_sum['payw_offer']=payw_sum['bankcard_debit']+payw_sum['wallet_alipay']+payw_sum['wallet_weixin']+payw_sum['alipay_huabei']\n",
    "payw_sum\n",
    "trsc = trsc.merge(payw_sum[['store_id','payw_offer']],on='store_id')"
   ]
  },
  {
   "cell_type": "code",
   "execution_count": 10,
   "metadata": {
    "ExecuteTime": {
     "end_time": "2019-12-06T23:36:18.556843Z",
     "start_time": "2019-12-06T23:36:18.294545Z"
    }
   },
   "outputs": [],
   "source": [
    "trsc.drop(columns=['effective_amount','bankcard_debit','wallet_weixin','wallet_alipay','alipay_huabei'],inplace=True)"
   ]
  },
  {
   "cell_type": "markdown",
   "metadata": {},
   "source": [
    "## 特征4：（商户提供的）活动\n",
    "\n",
    "bool(discount_channel & discount_channel &       )"
   ]
  },
  {
   "cell_type": "code",
   "execution_count": 11,
   "metadata": {
    "ExecuteTime": {
     "end_time": "2019-12-06T23:36:19.170213Z",
     "start_time": "2019-12-06T23:36:18.559836Z"
    }
   },
   "outputs": [],
   "source": [
    "payw_sum['discount']=payw_sum['discount_channel'].astype(bool).astype(int)+payw_sum['discount_channel_mch'].astype(bool).astype(int)+payw_sum['hongbao_channel'].astype(bool).astype(int)+payw_sum['discount_channel_mch_top_up'].astype(bool).astype(int)\n",
    "trsc = trsc.merge(payw_sum[['store_id','discount']],on='store_id')"
   ]
  },
  {
   "cell_type": "code",
   "execution_count": 12,
   "metadata": {
    "ExecuteTime": {
     "end_time": "2019-12-06T23:36:19.194153Z",
     "start_time": "2019-12-06T23:36:19.173195Z"
    }
   },
   "outputs": [
    {
     "name": "stderr",
     "output_type": "stream",
     "text": [
      "C:\\ProgramData\\Anaconda3\\lib\\site-packages\\pandas\\core\\computation\\expressions.py:183: UserWarning: evaluating in Python space because the '+' operator is not supported by numexpr for the bool dtype, use '|' instead\n",
      "  .format(op=op_str, alt_op=unsupported[op_str]))\n"
     ]
    },
    {
     "data": {
      "text/plain": [
       "2270"
      ]
     },
     "execution_count": 12,
     "metadata": {},
     "output_type": "execute_result"
    }
   ],
   "source": [
    "payw_sum['if_discount']=payw_sum['discount_channel'].astype(bool)+payw_sum['discount_channel_mch'].astype(bool)+payw_sum['hongbao_channel'].astype(bool)+payw_sum['discount_channel_mch_top_up'].astype(bool)\n",
    "sum(payw_sum.if_discount)"
   ]
  },
  {
   "cell_type": "code",
   "execution_count": 13,
   "metadata": {
    "ExecuteTime": {
     "end_time": "2019-12-06T23:36:19.426519Z",
     "start_time": "2019-12-06T23:36:19.197133Z"
    }
   },
   "outputs": [],
   "source": [
    "trsc.drop(columns=['discount_channel','discount_channel_mch','discount_channel_mch_top_up','hongbao_channel'],inplace=True)"
   ]
  },
  {
   "cell_type": "code",
   "execution_count": 14,
   "metadata": {
    "ExecuteTime": {
     "end_time": "2019-12-06T23:36:19.482372Z",
     "start_time": "2019-12-06T23:36:19.429511Z"
    },
    "scrolled": true
   },
   "outputs": [
    {
     "data": {
      "text/html": [
       "<div>\n",
       "<style scoped>\n",
       "    .dataframe tbody tr th:only-of-type {\n",
       "        vertical-align: middle;\n",
       "    }\n",
       "\n",
       "    .dataframe tbody tr th {\n",
       "        vertical-align: top;\n",
       "    }\n",
       "\n",
       "    .dataframe thead th {\n",
       "        text-align: right;\n",
       "    }\n",
       "</style>\n",
       "<table border=\"1\" class=\"dataframe\">\n",
       "  <thead>\n",
       "    <tr style=\"text-align: right;\">\n",
       "      <th></th>\n",
       "      <th>store_id</th>\n",
       "      <th>merchant_id</th>\n",
       "      <th>original_amount</th>\n",
       "      <th>pt</th>\n",
       "      <th>price_reduced</th>\n",
       "      <th>if_price_reduced</th>\n",
       "      <th>payw_offer</th>\n",
       "      <th>discount</th>\n",
       "    </tr>\n",
       "  </thead>\n",
       "  <tbody>\n",
       "    <tr>\n",
       "      <th>0</th>\n",
       "      <td>008b842b-34d7-4810-adf3-82e7fc75d355</td>\n",
       "      <td>cee01785-713d-4c89-9912-ec83fa749c43</td>\n",
       "      <td>800</td>\n",
       "      <td>20180512</td>\n",
       "      <td>0</td>\n",
       "      <td>0</td>\n",
       "      <td>4</td>\n",
       "      <td>2</td>\n",
       "    </tr>\n",
       "    <tr>\n",
       "      <th>1</th>\n",
       "      <td>008b842b-34d7-4810-adf3-82e7fc75d355</td>\n",
       "      <td>cee01785-713d-4c89-9912-ec83fa749c43</td>\n",
       "      <td>800</td>\n",
       "      <td>20180512</td>\n",
       "      <td>0</td>\n",
       "      <td>0</td>\n",
       "      <td>4</td>\n",
       "      <td>2</td>\n",
       "    </tr>\n",
       "    <tr>\n",
       "      <th>2</th>\n",
       "      <td>008b842b-34d7-4810-adf3-82e7fc75d355</td>\n",
       "      <td>cee01785-713d-4c89-9912-ec83fa749c43</td>\n",
       "      <td>2200</td>\n",
       "      <td>20180512</td>\n",
       "      <td>0</td>\n",
       "      <td>0</td>\n",
       "      <td>4</td>\n",
       "      <td>2</td>\n",
       "    </tr>\n",
       "    <tr>\n",
       "      <th>3</th>\n",
       "      <td>008b842b-34d7-4810-adf3-82e7fc75d355</td>\n",
       "      <td>cee01785-713d-4c89-9912-ec83fa749c43</td>\n",
       "      <td>800</td>\n",
       "      <td>20180512</td>\n",
       "      <td>0</td>\n",
       "      <td>0</td>\n",
       "      <td>4</td>\n",
       "      <td>2</td>\n",
       "    </tr>\n",
       "    <tr>\n",
       "      <th>4</th>\n",
       "      <td>008b842b-34d7-4810-adf3-82e7fc75d355</td>\n",
       "      <td>cee01785-713d-4c89-9912-ec83fa749c43</td>\n",
       "      <td>800</td>\n",
       "      <td>20180408</td>\n",
       "      <td>0</td>\n",
       "      <td>0</td>\n",
       "      <td>4</td>\n",
       "      <td>2</td>\n",
       "    </tr>\n",
       "    <tr>\n",
       "      <th>5</th>\n",
       "      <td>008b842b-34d7-4810-adf3-82e7fc75d355</td>\n",
       "      <td>cee01785-713d-4c89-9912-ec83fa749c43</td>\n",
       "      <td>800</td>\n",
       "      <td>20180512</td>\n",
       "      <td>0</td>\n",
       "      <td>0</td>\n",
       "      <td>4</td>\n",
       "      <td>2</td>\n",
       "    </tr>\n",
       "    <tr>\n",
       "      <th>6</th>\n",
       "      <td>008b842b-34d7-4810-adf3-82e7fc75d355</td>\n",
       "      <td>cee01785-713d-4c89-9912-ec83fa749c43</td>\n",
       "      <td>1600</td>\n",
       "      <td>20180519</td>\n",
       "      <td>0</td>\n",
       "      <td>0</td>\n",
       "      <td>4</td>\n",
       "      <td>2</td>\n",
       "    </tr>\n",
       "    <tr>\n",
       "      <th>7</th>\n",
       "      <td>008b842b-34d7-4810-adf3-82e7fc75d355</td>\n",
       "      <td>cee01785-713d-4c89-9912-ec83fa749c43</td>\n",
       "      <td>800</td>\n",
       "      <td>20180421</td>\n",
       "      <td>0</td>\n",
       "      <td>0</td>\n",
       "      <td>4</td>\n",
       "      <td>2</td>\n",
       "    </tr>\n",
       "    <tr>\n",
       "      <th>8</th>\n",
       "      <td>008b842b-34d7-4810-adf3-82e7fc75d355</td>\n",
       "      <td>cee01785-713d-4c89-9912-ec83fa749c43</td>\n",
       "      <td>500</td>\n",
       "      <td>20180517</td>\n",
       "      <td>0</td>\n",
       "      <td>0</td>\n",
       "      <td>4</td>\n",
       "      <td>2</td>\n",
       "    </tr>\n",
       "    <tr>\n",
       "      <th>9</th>\n",
       "      <td>008b842b-34d7-4810-adf3-82e7fc75d355</td>\n",
       "      <td>cee01785-713d-4c89-9912-ec83fa749c43</td>\n",
       "      <td>1400</td>\n",
       "      <td>20180407</td>\n",
       "      <td>0</td>\n",
       "      <td>0</td>\n",
       "      <td>4</td>\n",
       "      <td>2</td>\n",
       "    </tr>\n",
       "    <tr>\n",
       "      <th>10</th>\n",
       "      <td>008b842b-34d7-4810-adf3-82e7fc75d355</td>\n",
       "      <td>cee01785-713d-4c89-9912-ec83fa749c43</td>\n",
       "      <td>700</td>\n",
       "      <td>20180407</td>\n",
       "      <td>0</td>\n",
       "      <td>0</td>\n",
       "      <td>4</td>\n",
       "      <td>2</td>\n",
       "    </tr>\n",
       "    <tr>\n",
       "      <th>11</th>\n",
       "      <td>008b842b-34d7-4810-adf3-82e7fc75d355</td>\n",
       "      <td>cee01785-713d-4c89-9912-ec83fa749c43</td>\n",
       "      <td>1000</td>\n",
       "      <td>20180407</td>\n",
       "      <td>0</td>\n",
       "      <td>0</td>\n",
       "      <td>4</td>\n",
       "      <td>2</td>\n",
       "    </tr>\n",
       "    <tr>\n",
       "      <th>12</th>\n",
       "      <td>008b842b-34d7-4810-adf3-82e7fc75d355</td>\n",
       "      <td>cee01785-713d-4c89-9912-ec83fa749c43</td>\n",
       "      <td>800</td>\n",
       "      <td>20180407</td>\n",
       "      <td>0</td>\n",
       "      <td>0</td>\n",
       "      <td>4</td>\n",
       "      <td>2</td>\n",
       "    </tr>\n",
       "    <tr>\n",
       "      <th>13</th>\n",
       "      <td>008b842b-34d7-4810-adf3-82e7fc75d355</td>\n",
       "      <td>cee01785-713d-4c89-9912-ec83fa749c43</td>\n",
       "      <td>700</td>\n",
       "      <td>20180407</td>\n",
       "      <td>0</td>\n",
       "      <td>0</td>\n",
       "      <td>4</td>\n",
       "      <td>2</td>\n",
       "    </tr>\n",
       "    <tr>\n",
       "      <th>14</th>\n",
       "      <td>008b842b-34d7-4810-adf3-82e7fc75d355</td>\n",
       "      <td>cee01785-713d-4c89-9912-ec83fa749c43</td>\n",
       "      <td>2100</td>\n",
       "      <td>20180407</td>\n",
       "      <td>0</td>\n",
       "      <td>0</td>\n",
       "      <td>4</td>\n",
       "      <td>2</td>\n",
       "    </tr>\n",
       "    <tr>\n",
       "      <th>15</th>\n",
       "      <td>008b842b-34d7-4810-adf3-82e7fc75d355</td>\n",
       "      <td>cee01785-713d-4c89-9912-ec83fa749c43</td>\n",
       "      <td>700</td>\n",
       "      <td>20180407</td>\n",
       "      <td>0</td>\n",
       "      <td>0</td>\n",
       "      <td>4</td>\n",
       "      <td>2</td>\n",
       "    </tr>\n",
       "    <tr>\n",
       "      <th>16</th>\n",
       "      <td>008b842b-34d7-4810-adf3-82e7fc75d355</td>\n",
       "      <td>cee01785-713d-4c89-9912-ec83fa749c43</td>\n",
       "      <td>700</td>\n",
       "      <td>20180407</td>\n",
       "      <td>0</td>\n",
       "      <td>0</td>\n",
       "      <td>4</td>\n",
       "      <td>2</td>\n",
       "    </tr>\n",
       "    <tr>\n",
       "      <th>17</th>\n",
       "      <td>008b842b-34d7-4810-adf3-82e7fc75d355</td>\n",
       "      <td>cee01785-713d-4c89-9912-ec83fa749c43</td>\n",
       "      <td>700</td>\n",
       "      <td>20180407</td>\n",
       "      <td>0</td>\n",
       "      <td>0</td>\n",
       "      <td>4</td>\n",
       "      <td>2</td>\n",
       "    </tr>\n",
       "    <tr>\n",
       "      <th>18</th>\n",
       "      <td>008b842b-34d7-4810-adf3-82e7fc75d355</td>\n",
       "      <td>cee01785-713d-4c89-9912-ec83fa749c43</td>\n",
       "      <td>1100</td>\n",
       "      <td>20180430</td>\n",
       "      <td>0</td>\n",
       "      <td>0</td>\n",
       "      <td>4</td>\n",
       "      <td>2</td>\n",
       "    </tr>\n",
       "    <tr>\n",
       "      <th>19</th>\n",
       "      <td>008b842b-34d7-4810-adf3-82e7fc75d355</td>\n",
       "      <td>cee01785-713d-4c89-9912-ec83fa749c43</td>\n",
       "      <td>800</td>\n",
       "      <td>20180514</td>\n",
       "      <td>0</td>\n",
       "      <td>0</td>\n",
       "      <td>4</td>\n",
       "      <td>2</td>\n",
       "    </tr>\n",
       "    <tr>\n",
       "      <th>20</th>\n",
       "      <td>008b842b-34d7-4810-adf3-82e7fc75d355</td>\n",
       "      <td>cee01785-713d-4c89-9912-ec83fa749c43</td>\n",
       "      <td>1600</td>\n",
       "      <td>20180430</td>\n",
       "      <td>0</td>\n",
       "      <td>0</td>\n",
       "      <td>4</td>\n",
       "      <td>2</td>\n",
       "    </tr>\n",
       "    <tr>\n",
       "      <th>21</th>\n",
       "      <td>008b842b-34d7-4810-adf3-82e7fc75d355</td>\n",
       "      <td>cee01785-713d-4c89-9912-ec83fa749c43</td>\n",
       "      <td>800</td>\n",
       "      <td>20180420</td>\n",
       "      <td>0</td>\n",
       "      <td>0</td>\n",
       "      <td>4</td>\n",
       "      <td>2</td>\n",
       "    </tr>\n",
       "    <tr>\n",
       "      <th>22</th>\n",
       "      <td>008b842b-34d7-4810-adf3-82e7fc75d355</td>\n",
       "      <td>cee01785-713d-4c89-9912-ec83fa749c43</td>\n",
       "      <td>30000</td>\n",
       "      <td>20180512</td>\n",
       "      <td>0</td>\n",
       "      <td>0</td>\n",
       "      <td>4</td>\n",
       "      <td>2</td>\n",
       "    </tr>\n",
       "    <tr>\n",
       "      <th>23</th>\n",
       "      <td>008b842b-34d7-4810-adf3-82e7fc75d355</td>\n",
       "      <td>cee01785-713d-4c89-9912-ec83fa749c43</td>\n",
       "      <td>800</td>\n",
       "      <td>20180429</td>\n",
       "      <td>0</td>\n",
       "      <td>0</td>\n",
       "      <td>4</td>\n",
       "      <td>2</td>\n",
       "    </tr>\n",
       "    <tr>\n",
       "      <th>24</th>\n",
       "      <td>008b842b-34d7-4810-adf3-82e7fc75d355</td>\n",
       "      <td>cee01785-713d-4c89-9912-ec83fa749c43</td>\n",
       "      <td>500</td>\n",
       "      <td>20180518</td>\n",
       "      <td>0</td>\n",
       "      <td>0</td>\n",
       "      <td>4</td>\n",
       "      <td>2</td>\n",
       "    </tr>\n",
       "    <tr>\n",
       "      <th>25</th>\n",
       "      <td>008b842b-34d7-4810-adf3-82e7fc75d355</td>\n",
       "      <td>cee01785-713d-4c89-9912-ec83fa749c43</td>\n",
       "      <td>700</td>\n",
       "      <td>20180421</td>\n",
       "      <td>0</td>\n",
       "      <td>0</td>\n",
       "      <td>4</td>\n",
       "      <td>2</td>\n",
       "    </tr>\n",
       "    <tr>\n",
       "      <th>26</th>\n",
       "      <td>008b842b-34d7-4810-adf3-82e7fc75d355</td>\n",
       "      <td>cee01785-713d-4c89-9912-ec83fa749c43</td>\n",
       "      <td>800</td>\n",
       "      <td>20180429</td>\n",
       "      <td>0</td>\n",
       "      <td>0</td>\n",
       "      <td>4</td>\n",
       "      <td>2</td>\n",
       "    </tr>\n",
       "    <tr>\n",
       "      <th>27</th>\n",
       "      <td>008b842b-34d7-4810-adf3-82e7fc75d355</td>\n",
       "      <td>cee01785-713d-4c89-9912-ec83fa749c43</td>\n",
       "      <td>1400</td>\n",
       "      <td>20180406</td>\n",
       "      <td>0</td>\n",
       "      <td>0</td>\n",
       "      <td>4</td>\n",
       "      <td>2</td>\n",
       "    </tr>\n",
       "    <tr>\n",
       "      <th>28</th>\n",
       "      <td>008b842b-34d7-4810-adf3-82e7fc75d355</td>\n",
       "      <td>cee01785-713d-4c89-9912-ec83fa749c43</td>\n",
       "      <td>800</td>\n",
       "      <td>20180406</td>\n",
       "      <td>0</td>\n",
       "      <td>0</td>\n",
       "      <td>4</td>\n",
       "      <td>2</td>\n",
       "    </tr>\n",
       "    <tr>\n",
       "      <th>29</th>\n",
       "      <td>008b842b-34d7-4810-adf3-82e7fc75d355</td>\n",
       "      <td>cee01785-713d-4c89-9912-ec83fa749c43</td>\n",
       "      <td>800</td>\n",
       "      <td>20180402</td>\n",
       "      <td>0</td>\n",
       "      <td>0</td>\n",
       "      <td>4</td>\n",
       "      <td>2</td>\n",
       "    </tr>\n",
       "    <tr>\n",
       "      <th>...</th>\n",
       "      <td>...</td>\n",
       "      <td>...</td>\n",
       "      <td>...</td>\n",
       "      <td>...</td>\n",
       "      <td>...</td>\n",
       "      <td>...</td>\n",
       "      <td>...</td>\n",
       "      <td>...</td>\n",
       "    </tr>\n",
       "    <tr>\n",
       "      <th>2404964</th>\n",
       "      <td>f9d7c45b-d801-440e-940c-2d4736e8cc0c</td>\n",
       "      <td>cb1274c2-1abc-4a9c-982e-05f218b788da</td>\n",
       "      <td>700</td>\n",
       "      <td>20180423</td>\n",
       "      <td>0</td>\n",
       "      <td>0</td>\n",
       "      <td>4</td>\n",
       "      <td>2</td>\n",
       "    </tr>\n",
       "    <tr>\n",
       "      <th>2404965</th>\n",
       "      <td>f9d7c45b-d801-440e-940c-2d4736e8cc0c</td>\n",
       "      <td>cb1274c2-1abc-4a9c-982e-05f218b788da</td>\n",
       "      <td>1200</td>\n",
       "      <td>20180423</td>\n",
       "      <td>0</td>\n",
       "      <td>0</td>\n",
       "      <td>4</td>\n",
       "      <td>2</td>\n",
       "    </tr>\n",
       "    <tr>\n",
       "      <th>2404966</th>\n",
       "      <td>f9d7c45b-d801-440e-940c-2d4736e8cc0c</td>\n",
       "      <td>cb1274c2-1abc-4a9c-982e-05f218b788da</td>\n",
       "      <td>1000</td>\n",
       "      <td>20180517</td>\n",
       "      <td>0</td>\n",
       "      <td>0</td>\n",
       "      <td>4</td>\n",
       "      <td>2</td>\n",
       "    </tr>\n",
       "    <tr>\n",
       "      <th>2404967</th>\n",
       "      <td>f9d7c45b-d801-440e-940c-2d4736e8cc0c</td>\n",
       "      <td>cb1274c2-1abc-4a9c-982e-05f218b788da</td>\n",
       "      <td>800</td>\n",
       "      <td>20180517</td>\n",
       "      <td>0</td>\n",
       "      <td>0</td>\n",
       "      <td>4</td>\n",
       "      <td>2</td>\n",
       "    </tr>\n",
       "    <tr>\n",
       "      <th>2404968</th>\n",
       "      <td>f9d7c45b-d801-440e-940c-2d4736e8cc0c</td>\n",
       "      <td>cb1274c2-1abc-4a9c-982e-05f218b788da</td>\n",
       "      <td>600</td>\n",
       "      <td>20180517</td>\n",
       "      <td>0</td>\n",
       "      <td>0</td>\n",
       "      <td>4</td>\n",
       "      <td>2</td>\n",
       "    </tr>\n",
       "    <tr>\n",
       "      <th>2404969</th>\n",
       "      <td>f9d7c45b-d801-440e-940c-2d4736e8cc0c</td>\n",
       "      <td>cb1274c2-1abc-4a9c-982e-05f218b788da</td>\n",
       "      <td>1500</td>\n",
       "      <td>20180517</td>\n",
       "      <td>0</td>\n",
       "      <td>0</td>\n",
       "      <td>4</td>\n",
       "      <td>2</td>\n",
       "    </tr>\n",
       "    <tr>\n",
       "      <th>2404970</th>\n",
       "      <td>f9d7c45b-d801-440e-940c-2d4736e8cc0c</td>\n",
       "      <td>cb1274c2-1abc-4a9c-982e-05f218b788da</td>\n",
       "      <td>200</td>\n",
       "      <td>20180517</td>\n",
       "      <td>0</td>\n",
       "      <td>0</td>\n",
       "      <td>4</td>\n",
       "      <td>2</td>\n",
       "    </tr>\n",
       "    <tr>\n",
       "      <th>2404971</th>\n",
       "      <td>f9d7c45b-d801-440e-940c-2d4736e8cc0c</td>\n",
       "      <td>cb1274c2-1abc-4a9c-982e-05f218b788da</td>\n",
       "      <td>1300</td>\n",
       "      <td>20180517</td>\n",
       "      <td>0</td>\n",
       "      <td>0</td>\n",
       "      <td>4</td>\n",
       "      <td>2</td>\n",
       "    </tr>\n",
       "    <tr>\n",
       "      <th>2404972</th>\n",
       "      <td>f9d7c45b-d801-440e-940c-2d4736e8cc0c</td>\n",
       "      <td>cb1274c2-1abc-4a9c-982e-05f218b788da</td>\n",
       "      <td>700</td>\n",
       "      <td>20180517</td>\n",
       "      <td>0</td>\n",
       "      <td>0</td>\n",
       "      <td>4</td>\n",
       "      <td>2</td>\n",
       "    </tr>\n",
       "    <tr>\n",
       "      <th>2404973</th>\n",
       "      <td>f9d7c45b-d801-440e-940c-2d4736e8cc0c</td>\n",
       "      <td>cb1274c2-1abc-4a9c-982e-05f218b788da</td>\n",
       "      <td>200</td>\n",
       "      <td>20180517</td>\n",
       "      <td>0</td>\n",
       "      <td>0</td>\n",
       "      <td>4</td>\n",
       "      <td>2</td>\n",
       "    </tr>\n",
       "    <tr>\n",
       "      <th>2404974</th>\n",
       "      <td>f9d7c45b-d801-440e-940c-2d4736e8cc0c</td>\n",
       "      <td>cb1274c2-1abc-4a9c-982e-05f218b788da</td>\n",
       "      <td>700</td>\n",
       "      <td>20180517</td>\n",
       "      <td>0</td>\n",
       "      <td>0</td>\n",
       "      <td>4</td>\n",
       "      <td>2</td>\n",
       "    </tr>\n",
       "    <tr>\n",
       "      <th>2404975</th>\n",
       "      <td>f9d7c45b-d801-440e-940c-2d4736e8cc0c</td>\n",
       "      <td>cb1274c2-1abc-4a9c-982e-05f218b788da</td>\n",
       "      <td>200</td>\n",
       "      <td>20180523</td>\n",
       "      <td>0</td>\n",
       "      <td>0</td>\n",
       "      <td>4</td>\n",
       "      <td>2</td>\n",
       "    </tr>\n",
       "    <tr>\n",
       "      <th>2404976</th>\n",
       "      <td>f9d7c45b-d801-440e-940c-2d4736e8cc0c</td>\n",
       "      <td>cb1274c2-1abc-4a9c-982e-05f218b788da</td>\n",
       "      <td>1100</td>\n",
       "      <td>20180523</td>\n",
       "      <td>0</td>\n",
       "      <td>0</td>\n",
       "      <td>4</td>\n",
       "      <td>2</td>\n",
       "    </tr>\n",
       "    <tr>\n",
       "      <th>2404977</th>\n",
       "      <td>f9d7c45b-d801-440e-940c-2d4736e8cc0c</td>\n",
       "      <td>cb1274c2-1abc-4a9c-982e-05f218b788da</td>\n",
       "      <td>1100</td>\n",
       "      <td>20180523</td>\n",
       "      <td>0</td>\n",
       "      <td>0</td>\n",
       "      <td>4</td>\n",
       "      <td>2</td>\n",
       "    </tr>\n",
       "    <tr>\n",
       "      <th>2404978</th>\n",
       "      <td>f9d7c45b-d801-440e-940c-2d4736e8cc0c</td>\n",
       "      <td>cb1274c2-1abc-4a9c-982e-05f218b788da</td>\n",
       "      <td>1500</td>\n",
       "      <td>20180523</td>\n",
       "      <td>0</td>\n",
       "      <td>0</td>\n",
       "      <td>4</td>\n",
       "      <td>2</td>\n",
       "    </tr>\n",
       "    <tr>\n",
       "      <th>2404979</th>\n",
       "      <td>f9d7c45b-d801-440e-940c-2d4736e8cc0c</td>\n",
       "      <td>cb1274c2-1abc-4a9c-982e-05f218b788da</td>\n",
       "      <td>400</td>\n",
       "      <td>20180523</td>\n",
       "      <td>0</td>\n",
       "      <td>0</td>\n",
       "      <td>4</td>\n",
       "      <td>2</td>\n",
       "    </tr>\n",
       "    <tr>\n",
       "      <th>2404980</th>\n",
       "      <td>f9d7c45b-d801-440e-940c-2d4736e8cc0c</td>\n",
       "      <td>cb1274c2-1abc-4a9c-982e-05f218b788da</td>\n",
       "      <td>600</td>\n",
       "      <td>20180523</td>\n",
       "      <td>0</td>\n",
       "      <td>0</td>\n",
       "      <td>4</td>\n",
       "      <td>2</td>\n",
       "    </tr>\n",
       "    <tr>\n",
       "      <th>2404981</th>\n",
       "      <td>f9d7c45b-d801-440e-940c-2d4736e8cc0c</td>\n",
       "      <td>cb1274c2-1abc-4a9c-982e-05f218b788da</td>\n",
       "      <td>900</td>\n",
       "      <td>20180502</td>\n",
       "      <td>0</td>\n",
       "      <td>0</td>\n",
       "      <td>4</td>\n",
       "      <td>2</td>\n",
       "    </tr>\n",
       "    <tr>\n",
       "      <th>2404982</th>\n",
       "      <td>f9d7c45b-d801-440e-940c-2d4736e8cc0c</td>\n",
       "      <td>cb1274c2-1abc-4a9c-982e-05f218b788da</td>\n",
       "      <td>1600</td>\n",
       "      <td>20180502</td>\n",
       "      <td>0</td>\n",
       "      <td>0</td>\n",
       "      <td>4</td>\n",
       "      <td>2</td>\n",
       "    </tr>\n",
       "    <tr>\n",
       "      <th>2404983</th>\n",
       "      <td>f9d7c45b-d801-440e-940c-2d4736e8cc0c</td>\n",
       "      <td>cb1274c2-1abc-4a9c-982e-05f218b788da</td>\n",
       "      <td>900</td>\n",
       "      <td>20180502</td>\n",
       "      <td>0</td>\n",
       "      <td>0</td>\n",
       "      <td>4</td>\n",
       "      <td>2</td>\n",
       "    </tr>\n",
       "    <tr>\n",
       "      <th>2404984</th>\n",
       "      <td>f9d7c45b-d801-440e-940c-2d4736e8cc0c</td>\n",
       "      <td>cb1274c2-1abc-4a9c-982e-05f218b788da</td>\n",
       "      <td>1400</td>\n",
       "      <td>20180528</td>\n",
       "      <td>0</td>\n",
       "      <td>0</td>\n",
       "      <td>4</td>\n",
       "      <td>2</td>\n",
       "    </tr>\n",
       "    <tr>\n",
       "      <th>2404985</th>\n",
       "      <td>f9d7c45b-d801-440e-940c-2d4736e8cc0c</td>\n",
       "      <td>cb1274c2-1abc-4a9c-982e-05f218b788da</td>\n",
       "      <td>200</td>\n",
       "      <td>20180528</td>\n",
       "      <td>0</td>\n",
       "      <td>0</td>\n",
       "      <td>4</td>\n",
       "      <td>2</td>\n",
       "    </tr>\n",
       "    <tr>\n",
       "      <th>2404986</th>\n",
       "      <td>f9d7c45b-d801-440e-940c-2d4736e8cc0c</td>\n",
       "      <td>cb1274c2-1abc-4a9c-982e-05f218b788da</td>\n",
       "      <td>900</td>\n",
       "      <td>20180528</td>\n",
       "      <td>0</td>\n",
       "      <td>0</td>\n",
       "      <td>4</td>\n",
       "      <td>2</td>\n",
       "    </tr>\n",
       "    <tr>\n",
       "      <th>2404987</th>\n",
       "      <td>f9d7c45b-d801-440e-940c-2d4736e8cc0c</td>\n",
       "      <td>cb1274c2-1abc-4a9c-982e-05f218b788da</td>\n",
       "      <td>400</td>\n",
       "      <td>20180528</td>\n",
       "      <td>0</td>\n",
       "      <td>0</td>\n",
       "      <td>4</td>\n",
       "      <td>2</td>\n",
       "    </tr>\n",
       "    <tr>\n",
       "      <th>2404988</th>\n",
       "      <td>f9d7c45b-d801-440e-940c-2d4736e8cc0c</td>\n",
       "      <td>cb1274c2-1abc-4a9c-982e-05f218b788da</td>\n",
       "      <td>200</td>\n",
       "      <td>20180502</td>\n",
       "      <td>0</td>\n",
       "      <td>0</td>\n",
       "      <td>4</td>\n",
       "      <td>2</td>\n",
       "    </tr>\n",
       "    <tr>\n",
       "      <th>2404989</th>\n",
       "      <td>f9d7c45b-d801-440e-940c-2d4736e8cc0c</td>\n",
       "      <td>cb1274c2-1abc-4a9c-982e-05f218b788da</td>\n",
       "      <td>700</td>\n",
       "      <td>20180502</td>\n",
       "      <td>0</td>\n",
       "      <td>0</td>\n",
       "      <td>4</td>\n",
       "      <td>2</td>\n",
       "    </tr>\n",
       "    <tr>\n",
       "      <th>2404990</th>\n",
       "      <td>f9d7c45b-d801-440e-940c-2d4736e8cc0c</td>\n",
       "      <td>cb1274c2-1abc-4a9c-982e-05f218b788da</td>\n",
       "      <td>700</td>\n",
       "      <td>20180528</td>\n",
       "      <td>0</td>\n",
       "      <td>0</td>\n",
       "      <td>4</td>\n",
       "      <td>2</td>\n",
       "    </tr>\n",
       "    <tr>\n",
       "      <th>2404991</th>\n",
       "      <td>f9d7c45b-d801-440e-940c-2d4736e8cc0c</td>\n",
       "      <td>cb1274c2-1abc-4a9c-982e-05f218b788da</td>\n",
       "      <td>2000</td>\n",
       "      <td>20180502</td>\n",
       "      <td>0</td>\n",
       "      <td>0</td>\n",
       "      <td>4</td>\n",
       "      <td>2</td>\n",
       "    </tr>\n",
       "    <tr>\n",
       "      <th>2404992</th>\n",
       "      <td>f9d7c45b-d801-440e-940c-2d4736e8cc0c</td>\n",
       "      <td>cb1274c2-1abc-4a9c-982e-05f218b788da</td>\n",
       "      <td>700</td>\n",
       "      <td>20180528</td>\n",
       "      <td>0</td>\n",
       "      <td>0</td>\n",
       "      <td>4</td>\n",
       "      <td>2</td>\n",
       "    </tr>\n",
       "    <tr>\n",
       "      <th>2404993</th>\n",
       "      <td>f9d7c45b-d801-440e-940c-2d4736e8cc0c</td>\n",
       "      <td>cb1274c2-1abc-4a9c-982e-05f218b788da</td>\n",
       "      <td>800</td>\n",
       "      <td>20180528</td>\n",
       "      <td>0</td>\n",
       "      <td>0</td>\n",
       "      <td>4</td>\n",
       "      <td>2</td>\n",
       "    </tr>\n",
       "  </tbody>\n",
       "</table>\n",
       "<p>2404994 rows × 8 columns</p>\n",
       "</div>"
      ],
      "text/plain": [
       "                                     store_id  \\\n",
       "0        008b842b-34d7-4810-adf3-82e7fc75d355   \n",
       "1        008b842b-34d7-4810-adf3-82e7fc75d355   \n",
       "2        008b842b-34d7-4810-adf3-82e7fc75d355   \n",
       "3        008b842b-34d7-4810-adf3-82e7fc75d355   \n",
       "4        008b842b-34d7-4810-adf3-82e7fc75d355   \n",
       "5        008b842b-34d7-4810-adf3-82e7fc75d355   \n",
       "6        008b842b-34d7-4810-adf3-82e7fc75d355   \n",
       "7        008b842b-34d7-4810-adf3-82e7fc75d355   \n",
       "8        008b842b-34d7-4810-adf3-82e7fc75d355   \n",
       "9        008b842b-34d7-4810-adf3-82e7fc75d355   \n",
       "10       008b842b-34d7-4810-adf3-82e7fc75d355   \n",
       "11       008b842b-34d7-4810-adf3-82e7fc75d355   \n",
       "12       008b842b-34d7-4810-adf3-82e7fc75d355   \n",
       "13       008b842b-34d7-4810-adf3-82e7fc75d355   \n",
       "14       008b842b-34d7-4810-adf3-82e7fc75d355   \n",
       "15       008b842b-34d7-4810-adf3-82e7fc75d355   \n",
       "16       008b842b-34d7-4810-adf3-82e7fc75d355   \n",
       "17       008b842b-34d7-4810-adf3-82e7fc75d355   \n",
       "18       008b842b-34d7-4810-adf3-82e7fc75d355   \n",
       "19       008b842b-34d7-4810-adf3-82e7fc75d355   \n",
       "20       008b842b-34d7-4810-adf3-82e7fc75d355   \n",
       "21       008b842b-34d7-4810-adf3-82e7fc75d355   \n",
       "22       008b842b-34d7-4810-adf3-82e7fc75d355   \n",
       "23       008b842b-34d7-4810-adf3-82e7fc75d355   \n",
       "24       008b842b-34d7-4810-adf3-82e7fc75d355   \n",
       "25       008b842b-34d7-4810-adf3-82e7fc75d355   \n",
       "26       008b842b-34d7-4810-adf3-82e7fc75d355   \n",
       "27       008b842b-34d7-4810-adf3-82e7fc75d355   \n",
       "28       008b842b-34d7-4810-adf3-82e7fc75d355   \n",
       "29       008b842b-34d7-4810-adf3-82e7fc75d355   \n",
       "...                                       ...   \n",
       "2404964  f9d7c45b-d801-440e-940c-2d4736e8cc0c   \n",
       "2404965  f9d7c45b-d801-440e-940c-2d4736e8cc0c   \n",
       "2404966  f9d7c45b-d801-440e-940c-2d4736e8cc0c   \n",
       "2404967  f9d7c45b-d801-440e-940c-2d4736e8cc0c   \n",
       "2404968  f9d7c45b-d801-440e-940c-2d4736e8cc0c   \n",
       "2404969  f9d7c45b-d801-440e-940c-2d4736e8cc0c   \n",
       "2404970  f9d7c45b-d801-440e-940c-2d4736e8cc0c   \n",
       "2404971  f9d7c45b-d801-440e-940c-2d4736e8cc0c   \n",
       "2404972  f9d7c45b-d801-440e-940c-2d4736e8cc0c   \n",
       "2404973  f9d7c45b-d801-440e-940c-2d4736e8cc0c   \n",
       "2404974  f9d7c45b-d801-440e-940c-2d4736e8cc0c   \n",
       "2404975  f9d7c45b-d801-440e-940c-2d4736e8cc0c   \n",
       "2404976  f9d7c45b-d801-440e-940c-2d4736e8cc0c   \n",
       "2404977  f9d7c45b-d801-440e-940c-2d4736e8cc0c   \n",
       "2404978  f9d7c45b-d801-440e-940c-2d4736e8cc0c   \n",
       "2404979  f9d7c45b-d801-440e-940c-2d4736e8cc0c   \n",
       "2404980  f9d7c45b-d801-440e-940c-2d4736e8cc0c   \n",
       "2404981  f9d7c45b-d801-440e-940c-2d4736e8cc0c   \n",
       "2404982  f9d7c45b-d801-440e-940c-2d4736e8cc0c   \n",
       "2404983  f9d7c45b-d801-440e-940c-2d4736e8cc0c   \n",
       "2404984  f9d7c45b-d801-440e-940c-2d4736e8cc0c   \n",
       "2404985  f9d7c45b-d801-440e-940c-2d4736e8cc0c   \n",
       "2404986  f9d7c45b-d801-440e-940c-2d4736e8cc0c   \n",
       "2404987  f9d7c45b-d801-440e-940c-2d4736e8cc0c   \n",
       "2404988  f9d7c45b-d801-440e-940c-2d4736e8cc0c   \n",
       "2404989  f9d7c45b-d801-440e-940c-2d4736e8cc0c   \n",
       "2404990  f9d7c45b-d801-440e-940c-2d4736e8cc0c   \n",
       "2404991  f9d7c45b-d801-440e-940c-2d4736e8cc0c   \n",
       "2404992  f9d7c45b-d801-440e-940c-2d4736e8cc0c   \n",
       "2404993  f9d7c45b-d801-440e-940c-2d4736e8cc0c   \n",
       "\n",
       "                                  merchant_id  original_amount        pt  \\\n",
       "0        cee01785-713d-4c89-9912-ec83fa749c43              800  20180512   \n",
       "1        cee01785-713d-4c89-9912-ec83fa749c43              800  20180512   \n",
       "2        cee01785-713d-4c89-9912-ec83fa749c43             2200  20180512   \n",
       "3        cee01785-713d-4c89-9912-ec83fa749c43              800  20180512   \n",
       "4        cee01785-713d-4c89-9912-ec83fa749c43              800  20180408   \n",
       "5        cee01785-713d-4c89-9912-ec83fa749c43              800  20180512   \n",
       "6        cee01785-713d-4c89-9912-ec83fa749c43             1600  20180519   \n",
       "7        cee01785-713d-4c89-9912-ec83fa749c43              800  20180421   \n",
       "8        cee01785-713d-4c89-9912-ec83fa749c43              500  20180517   \n",
       "9        cee01785-713d-4c89-9912-ec83fa749c43             1400  20180407   \n",
       "10       cee01785-713d-4c89-9912-ec83fa749c43              700  20180407   \n",
       "11       cee01785-713d-4c89-9912-ec83fa749c43             1000  20180407   \n",
       "12       cee01785-713d-4c89-9912-ec83fa749c43              800  20180407   \n",
       "13       cee01785-713d-4c89-9912-ec83fa749c43              700  20180407   \n",
       "14       cee01785-713d-4c89-9912-ec83fa749c43             2100  20180407   \n",
       "15       cee01785-713d-4c89-9912-ec83fa749c43              700  20180407   \n",
       "16       cee01785-713d-4c89-9912-ec83fa749c43              700  20180407   \n",
       "17       cee01785-713d-4c89-9912-ec83fa749c43              700  20180407   \n",
       "18       cee01785-713d-4c89-9912-ec83fa749c43             1100  20180430   \n",
       "19       cee01785-713d-4c89-9912-ec83fa749c43              800  20180514   \n",
       "20       cee01785-713d-4c89-9912-ec83fa749c43             1600  20180430   \n",
       "21       cee01785-713d-4c89-9912-ec83fa749c43              800  20180420   \n",
       "22       cee01785-713d-4c89-9912-ec83fa749c43            30000  20180512   \n",
       "23       cee01785-713d-4c89-9912-ec83fa749c43              800  20180429   \n",
       "24       cee01785-713d-4c89-9912-ec83fa749c43              500  20180518   \n",
       "25       cee01785-713d-4c89-9912-ec83fa749c43              700  20180421   \n",
       "26       cee01785-713d-4c89-9912-ec83fa749c43              800  20180429   \n",
       "27       cee01785-713d-4c89-9912-ec83fa749c43             1400  20180406   \n",
       "28       cee01785-713d-4c89-9912-ec83fa749c43              800  20180406   \n",
       "29       cee01785-713d-4c89-9912-ec83fa749c43              800  20180402   \n",
       "...                                       ...              ...       ...   \n",
       "2404964  cb1274c2-1abc-4a9c-982e-05f218b788da              700  20180423   \n",
       "2404965  cb1274c2-1abc-4a9c-982e-05f218b788da             1200  20180423   \n",
       "2404966  cb1274c2-1abc-4a9c-982e-05f218b788da             1000  20180517   \n",
       "2404967  cb1274c2-1abc-4a9c-982e-05f218b788da              800  20180517   \n",
       "2404968  cb1274c2-1abc-4a9c-982e-05f218b788da              600  20180517   \n",
       "2404969  cb1274c2-1abc-4a9c-982e-05f218b788da             1500  20180517   \n",
       "2404970  cb1274c2-1abc-4a9c-982e-05f218b788da              200  20180517   \n",
       "2404971  cb1274c2-1abc-4a9c-982e-05f218b788da             1300  20180517   \n",
       "2404972  cb1274c2-1abc-4a9c-982e-05f218b788da              700  20180517   \n",
       "2404973  cb1274c2-1abc-4a9c-982e-05f218b788da              200  20180517   \n",
       "2404974  cb1274c2-1abc-4a9c-982e-05f218b788da              700  20180517   \n",
       "2404975  cb1274c2-1abc-4a9c-982e-05f218b788da              200  20180523   \n",
       "2404976  cb1274c2-1abc-4a9c-982e-05f218b788da             1100  20180523   \n",
       "2404977  cb1274c2-1abc-4a9c-982e-05f218b788da             1100  20180523   \n",
       "2404978  cb1274c2-1abc-4a9c-982e-05f218b788da             1500  20180523   \n",
       "2404979  cb1274c2-1abc-4a9c-982e-05f218b788da              400  20180523   \n",
       "2404980  cb1274c2-1abc-4a9c-982e-05f218b788da              600  20180523   \n",
       "2404981  cb1274c2-1abc-4a9c-982e-05f218b788da              900  20180502   \n",
       "2404982  cb1274c2-1abc-4a9c-982e-05f218b788da             1600  20180502   \n",
       "2404983  cb1274c2-1abc-4a9c-982e-05f218b788da              900  20180502   \n",
       "2404984  cb1274c2-1abc-4a9c-982e-05f218b788da             1400  20180528   \n",
       "2404985  cb1274c2-1abc-4a9c-982e-05f218b788da              200  20180528   \n",
       "2404986  cb1274c2-1abc-4a9c-982e-05f218b788da              900  20180528   \n",
       "2404987  cb1274c2-1abc-4a9c-982e-05f218b788da              400  20180528   \n",
       "2404988  cb1274c2-1abc-4a9c-982e-05f218b788da              200  20180502   \n",
       "2404989  cb1274c2-1abc-4a9c-982e-05f218b788da              700  20180502   \n",
       "2404990  cb1274c2-1abc-4a9c-982e-05f218b788da              700  20180528   \n",
       "2404991  cb1274c2-1abc-4a9c-982e-05f218b788da             2000  20180502   \n",
       "2404992  cb1274c2-1abc-4a9c-982e-05f218b788da              700  20180528   \n",
       "2404993  cb1274c2-1abc-4a9c-982e-05f218b788da              800  20180528   \n",
       "\n",
       "         price_reduced  if_price_reduced  payw_offer  discount  \n",
       "0                    0                 0           4         2  \n",
       "1                    0                 0           4         2  \n",
       "2                    0                 0           4         2  \n",
       "3                    0                 0           4         2  \n",
       "4                    0                 0           4         2  \n",
       "5                    0                 0           4         2  \n",
       "6                    0                 0           4         2  \n",
       "7                    0                 0           4         2  \n",
       "8                    0                 0           4         2  \n",
       "9                    0                 0           4         2  \n",
       "10                   0                 0           4         2  \n",
       "11                   0                 0           4         2  \n",
       "12                   0                 0           4         2  \n",
       "13                   0                 0           4         2  \n",
       "14                   0                 0           4         2  \n",
       "15                   0                 0           4         2  \n",
       "16                   0                 0           4         2  \n",
       "17                   0                 0           4         2  \n",
       "18                   0                 0           4         2  \n",
       "19                   0                 0           4         2  \n",
       "20                   0                 0           4         2  \n",
       "21                   0                 0           4         2  \n",
       "22                   0                 0           4         2  \n",
       "23                   0                 0           4         2  \n",
       "24                   0                 0           4         2  \n",
       "25                   0                 0           4         2  \n",
       "26                   0                 0           4         2  \n",
       "27                   0                 0           4         2  \n",
       "28                   0                 0           4         2  \n",
       "29                   0                 0           4         2  \n",
       "...                ...               ...         ...       ...  \n",
       "2404964              0                 0           4         2  \n",
       "2404965              0                 0           4         2  \n",
       "2404966              0                 0           4         2  \n",
       "2404967              0                 0           4         2  \n",
       "2404968              0                 0           4         2  \n",
       "2404969              0                 0           4         2  \n",
       "2404970              0                 0           4         2  \n",
       "2404971              0                 0           4         2  \n",
       "2404972              0                 0           4         2  \n",
       "2404973              0                 0           4         2  \n",
       "2404974              0                 0           4         2  \n",
       "2404975              0                 0           4         2  \n",
       "2404976              0                 0           4         2  \n",
       "2404977              0                 0           4         2  \n",
       "2404978              0                 0           4         2  \n",
       "2404979              0                 0           4         2  \n",
       "2404980              0                 0           4         2  \n",
       "2404981              0                 0           4         2  \n",
       "2404982              0                 0           4         2  \n",
       "2404983              0                 0           4         2  \n",
       "2404984              0                 0           4         2  \n",
       "2404985              0                 0           4         2  \n",
       "2404986              0                 0           4         2  \n",
       "2404987              0                 0           4         2  \n",
       "2404988              0                 0           4         2  \n",
       "2404989              0                 0           4         2  \n",
       "2404990              0                 0           4         2  \n",
       "2404991              0                 0           4         2  \n",
       "2404992              0                 0           4         2  \n",
       "2404993              0                 0           4         2  \n",
       "\n",
       "[2404994 rows x 8 columns]"
      ]
     },
     "execution_count": 14,
     "metadata": {},
     "output_type": "execute_result"
    }
   ],
   "source": [
    "trsc"
   ]
  },
  {
   "cell_type": "markdown",
   "metadata": {},
   "source": [
    "## 不看throwpoint后的交易数据："
   ]
  },
  {
   "cell_type": "code",
   "execution_count": 15,
   "metadata": {
    "ExecuteTime": {
     "end_time": "2019-12-06T23:36:20.381964Z",
     "start_time": "2019-12-06T23:36:19.485362Z"
    },
    "scrolled": true
   },
   "outputs": [],
   "source": [
    "# lable = pd.read_csv(LBL,engine='python')\n",
    "# lable.drop(columns=['Unnamed: 0'],inplace=True)\n",
    "trpt = pd.read_csv( TP, engine='python')\n",
    "trsc = trsc.merge(trpt,on='store_id',suffixes=('','_trpt'))"
   ]
  },
  {
   "cell_type": "code",
   "execution_count": 16,
   "metadata": {
    "ExecuteTime": {
     "end_time": "2019-12-06T23:36:28.197061Z",
     "start_time": "2019-12-06T23:36:20.384955Z"
    }
   },
   "outputs": [],
   "source": [
    "trsc['pt'] = pd.to_datetime(trsc.pt, format='%Y%m%d')\n",
    "trsc['pt_trpt'] = pd.to_datetime(trsc.pt_trpt, format='%Y%m%d')"
   ]
  },
  {
   "cell_type": "code",
   "execution_count": 17,
   "metadata": {
    "ExecuteTime": {
     "end_time": "2019-12-06T23:36:29.664139Z",
     "start_time": "2019-12-06T23:36:28.199057Z"
    }
   },
   "outputs": [],
   "source": [
    "import datetime\n",
    "\n",
    "trsc['pt_delta'] =  trsc['pt_trpt']-trsc['pt']\n",
    "trsc = trsc[(trsc[['pt_delta']]>datetime.timedelta(days=0)).all(axis=1)]\n",
    "trsc.drop(columns=['pt_delta'],inplace=True)"
   ]
  },
  {
   "cell_type": "markdown",
   "metadata": {},
   "source": [
    "## 特征5： 日均交易额\\ 单店日均交易额在该行业占比\n",
    "\n",
    "#operate_state \n",
    "\n",
    "#daily_amount"
   ]
  },
  {
   "cell_type": "code",
   "execution_count": 18,
   "metadata": {
    "ExecuteTime": {
     "end_time": "2019-12-06T23:36:29.710078Z",
     "start_time": "2019-12-06T23:36:29.666134Z"
    },
    "scrolled": true
   },
   "outputs": [],
   "source": [
    "mch = pd.read_csv(M,engine='python',sep=' ')\n",
    "# mch"
   ]
  },
  {
   "cell_type": "code",
   "execution_count": 19,
   "metadata": {
    "ExecuteTime": {
     "end_time": "2019-12-06T23:36:31.150165Z",
     "start_time": "2019-12-06T23:36:29.712013Z"
    }
   },
   "outputs": [],
   "source": [
    "trsc = trsc.merge(mch,on='merchant_id')"
   ]
  },
  {
   "cell_type": "code",
   "execution_count": 20,
   "metadata": {
    "ExecuteTime": {
     "end_time": "2019-12-06T23:36:34.455357Z",
     "start_time": "2019-12-06T23:36:31.153158Z"
    }
   },
   "outputs": [],
   "source": [
    "store_amount_sum = trsc.groupby(['store_id']).sum().reset_index()\n",
    "mch_amount_sum = trsc.groupby(['merchant_id']).sum().reset_index()"
   ]
  },
  {
   "cell_type": "code",
   "execution_count": 21,
   "metadata": {
    "ExecuteTime": {
     "end_time": "2019-12-06T23:36:37.816337Z",
     "start_time": "2019-12-06T23:36:34.458319Z"
    }
   },
   "outputs": [],
   "source": [
    "trsc = trsc.merge(store_amount_sum[['store_id','original_amount']],on='store_id',suffixes=('','_store_sum'))\n",
    "trsc = trsc.merge(mch_amount_sum[['merchant_id','original_amount']],on='merchant_id',suffixes=('','_mch_sum'))"
   ]
  },
  {
   "cell_type": "code",
   "execution_count": 22,
   "metadata": {
    "ExecuteTime": {
     "end_time": "2019-12-06T23:36:38.234220Z",
     "start_time": "2019-12-06T23:36:37.825314Z"
    }
   },
   "outputs": [
    {
     "data": {
      "text/plain": [
       "numpy.int64"
      ]
     },
     "execution_count": 22,
     "metadata": {},
     "output_type": "execute_result"
    }
   ],
   "source": [
    "trsc['days'] = trsc['pt_trpt']-datetime.datetime.strptime('2018-06-01', '%Y-%m-%d')\n",
    "trsc['days'] = trsc['days'].dt.days\n",
    "type(trsc.days[1])"
   ]
  },
  {
   "cell_type": "code",
   "execution_count": 23,
   "metadata": {
    "ExecuteTime": {
     "end_time": "2019-12-06T23:36:38.381823Z",
     "start_time": "2019-12-06T23:36:38.240205Z"
    }
   },
   "outputs": [],
   "source": [
    "trsc['operate_state'] = trsc['original_amount_store_sum']/trsc['original_amount_mch_sum']\n",
    "trsc['daily_amount'] = trsc['original_amount_store_sum']/trsc['days']"
   ]
  },
  {
   "cell_type": "code",
   "execution_count": 24,
   "metadata": {
    "ExecuteTime": {
     "end_time": "2019-12-06T23:36:39.246599Z",
     "start_time": "2019-12-06T23:36:38.384817Z"
    }
   },
   "outputs": [],
   "source": [
    "eigen = trsc.drop(columns=['merchant_id','pt','pt_trpt','days','original_amount_store_sum','original_amount_mch_sum'])"
   ]
  },
  {
   "cell_type": "code",
   "execution_count": 25,
   "metadata": {
    "ExecuteTime": {
     "end_time": "2019-12-06T23:39:05.459573Z",
     "start_time": "2019-12-06T23:36:39.248507Z"
    }
   },
   "outputs": [],
   "source": [
    "eigen.to_csv(EIGEN)"
   ]
  },
  {
   "cell_type": "code",
   "execution_count": 26,
   "metadata": {
    "ExecuteTime": {
     "end_time": "2019-12-06T23:39:05.467465Z",
     "start_time": "2019-12-06T23:39:05.462480Z"
    }
   },
   "outputs": [],
   "source": [
    "# trpt.sort_values('pt')"
   ]
  },
  {
   "cell_type": "code",
   "execution_count": null,
   "metadata": {},
   "outputs": [],
   "source": []
  }
 ],
 "metadata": {
  "kernelspec": {
   "display_name": "Python 3",
   "language": "python",
   "name": "python3"
  },
  "language_info": {
   "codemirror_mode": {
    "name": "ipython",
    "version": 3
   },
   "file_extension": ".py",
   "mimetype": "text/x-python",
   "name": "python",
   "nbconvert_exporter": "python",
   "pygments_lexer": "ipython3",
   "version": "3.7.3"
  },
  "latex_envs": {
   "LaTeX_envs_menu_present": true,
   "autoclose": false,
   "autocomplete": true,
   "bibliofile": "biblio.bib",
   "cite_by": "apalike",
   "current_citInitial": 1,
   "eqLabelWithNumbers": true,
   "eqNumInitial": 1,
   "hotkeys": {
    "equation": "Ctrl-E",
    "itemize": "Ctrl-I"
   },
   "labels_anchors": false,
   "latex_user_defs": false,
   "report_style_numbering": false,
   "user_envs_cfg": false
  },
  "toc": {
   "base_numbering": 1,
   "nav_menu": {},
   "number_sections": true,
   "sideBar": true,
   "skip_h1_title": false,
   "title_cell": "Table of Contents",
   "title_sidebar": "Contents",
   "toc_cell": false,
   "toc_position": {
    "height": "calc(100% - 180px)",
    "left": "10px",
    "top": "150px",
    "width": "171.818px"
   },
   "toc_section_display": true,
   "toc_window_display": true
  },
  "varInspector": {
   "cols": {
    "lenName": 16,
    "lenType": 16,
    "lenVar": 40
   },
   "kernels_config": {
    "python": {
     "delete_cmd_postfix": "",
     "delete_cmd_prefix": "del ",
     "library": "var_list.py",
     "varRefreshCmd": "print(var_dic_list())"
    },
    "r": {
     "delete_cmd_postfix": ") ",
     "delete_cmd_prefix": "rm(",
     "library": "var_list.r",
     "varRefreshCmd": "cat(var_dic_list()) "
    }
   },
   "types_to_exclude": [
    "module",
    "function",
    "builtin_function_or_method",
    "instance",
    "_Feature"
   ],
   "window_display": false
  }
 },
 "nbformat": 4,
 "nbformat_minor": 2
}
